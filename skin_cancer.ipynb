{
 "cells": [
  {
   "cell_type": "code",
   "execution_count": 1,
   "metadata": {},
   "outputs": [],
   "source": [
    "import cv2\n",
    "import numpy as np\n",
    "import os\n",
    "\n",
    "from keras.models import Sequential\n",
    "from keras.layers import MaxPooling2D, Dropout, Flatten, Dense, Conv2D\n",
    "from sklearn import metrics\n",
    "import tensorflow as tf"
   ]
  },
  {
   "cell_type": "markdown",
   "metadata": {},
   "source": [
    "### Load Training Data"
   ]
  },
  {
   "cell_type": "code",
   "execution_count": 2,
   "metadata": {},
   "outputs": [],
   "source": [
    "train_dir = r'C:\\Users\\elsayed\\Projects\\AI\\Skin cancer\\data\\train'"
   ]
  },
  {
   "cell_type": "code",
   "execution_count": 3,
   "metadata": {},
   "outputs": [],
   "source": [
    "categories = ['benign', 'malignant']\n",
    "training_data = []\n",
    "img_size = 50"
   ]
  },
  {
   "cell_type": "code",
   "execution_count": 4,
   "metadata": {},
   "outputs": [],
   "source": [
    "for category in categories:\n",
    "    path = os.path.join(train_dir, category)\n",
    "    class_num = categories.index(category)\n",
    "    for img in os.listdir(path):\n",
    "        try:\n",
    "            img_array = cv2.imread(os.path.join(path, img))\n",
    "            new_array = cv2.resize(img_array, (125, 100))\n",
    "            training_data.append([new_array, class_num])\n",
    "        except Exception as ex:\n",
    "            pass"
   ]
  },
  {
   "cell_type": "code",
   "execution_count": 5,
   "metadata": {},
   "outputs": [
    {
     "data": {
      "text/plain": [
       "2637"
      ]
     },
     "execution_count": 5,
     "metadata": {},
     "output_type": "execute_result"
    }
   ],
   "source": [
    "len(training_data)"
   ]
  },
  {
   "cell_type": "code",
   "execution_count": 6,
   "metadata": {},
   "outputs": [],
   "source": [
    "x = []\n",
    "y = []\n",
    "\n",
    "for feature, label in training_data:\n",
    "    x.append(feature)\n",
    "    y.append(label)"
   ]
  },
  {
   "cell_type": "code",
   "execution_count": 7,
   "metadata": {},
   "outputs": [],
   "source": [
    "x = np.array(x)\n",
    "y = np.array(y)"
   ]
  },
  {
   "cell_type": "markdown",
   "metadata": {},
   "source": [
    "### Load Testing Data"
   ]
  },
  {
   "cell_type": "code",
   "execution_count": 8,
   "metadata": {},
   "outputs": [],
   "source": [
    "test_dir = r'C:\\Users\\elsayed\\Projects\\AI\\Skin cancer\\data\\test'"
   ]
  },
  {
   "cell_type": "code",
   "execution_count": 9,
   "metadata": {},
   "outputs": [],
   "source": [
    "test_categories = ['benign', 'malignant']\n",
    "testing_data = []"
   ]
  },
  {
   "cell_type": "code",
   "execution_count": 10,
   "metadata": {},
   "outputs": [],
   "source": [
    "for category_test in test_categories:\n",
    "    test_path = os.path.join(test_dir, category_test)\n",
    "    class_num_test = test_categories.index(category_test)\n",
    "    for test_img in os.listdir(test_path):\n",
    "        try:\n",
    "            test_img_array = cv2.imread(os.path.join(test_path, test_img))\n",
    "            test_new_array = cv2.resize(test_img_array, (125, 100))\n",
    "            testing_data.append([test_new_array, class_num_test])\n",
    "        except Exception as ex:\n",
    "            pass"
   ]
  },
  {
   "cell_type": "code",
   "execution_count": 11,
   "metadata": {},
   "outputs": [
    {
     "data": {
      "text/plain": [
       "660"
      ]
     },
     "execution_count": 11,
     "metadata": {},
     "output_type": "execute_result"
    }
   ],
   "source": [
    "len(testing_data)"
   ]
  },
  {
   "cell_type": "code",
   "execution_count": 12,
   "metadata": {},
   "outputs": [],
   "source": [
    "x_test = []\n",
    "y_test = []\n",
    "\n",
    "for feature, label in testing_data:\n",
    "    x_test.append(feature)\n",
    "    y_test.append(label)"
   ]
  },
  {
   "cell_type": "code",
   "execution_count": 13,
   "metadata": {},
   "outputs": [],
   "source": [
    "x_test = np.array(x_test)\n",
    "y_test = np.array(y_test)"
   ]
  },
  {
   "cell_type": "markdown",
   "metadata": {},
   "source": [
    "### The Model"
   ]
  },
  {
   "cell_type": "code",
   "execution_count": 14,
   "metadata": {},
   "outputs": [
    {
     "name": "stdout",
     "output_type": "stream",
     "text": [
      "Model: \"sequential\"\n",
      "_________________________________________________________________\n",
      " Layer (type)                Output Shape              Param #   \n",
      "=================================================================\n",
      " conv2d (Conv2D)             (None, 100, 125, 32)      896       \n",
      "                                                                 \n",
      " conv2d_1 (Conv2D)           (None, 100, 125, 32)      9248      \n",
      "                                                                 \n",
      " max_pooling2d (MaxPooling2  (None, 50, 62, 32)        0         \n",
      " D)                                                              \n",
      "                                                                 \n",
      " dropout (Dropout)           (None, 50, 62, 32)        0         \n",
      "                                                                 \n",
      " conv2d_2 (Conv2D)           (None, 50, 62, 32)        9248      \n",
      "                                                                 \n",
      " conv2d_3 (Conv2D)           (None, 50, 62, 32)        9248      \n",
      "                                                                 \n",
      " max_pooling2d_1 (MaxPoolin  (None, 25, 31, 32)        0         \n",
      " g2D)                                                            \n",
      "                                                                 \n",
      " dropout_1 (Dropout)         (None, 25, 31, 32)        0         \n",
      "                                                                 \n",
      " conv2d_4 (Conv2D)           (None, 25, 31, 64)        18496     \n",
      "                                                                 \n",
      " conv2d_5 (Conv2D)           (None, 25, 31, 64)        36928     \n",
      "                                                                 \n",
      " max_pooling2d_2 (MaxPoolin  (None, 12, 15, 64)        0         \n",
      " g2D)                                                            \n",
      "                                                                 \n",
      " dropout_2 (Dropout)         (None, 12, 15, 64)        0         \n",
      "                                                                 \n",
      " flatten (Flatten)           (None, 11520)             0         \n",
      "                                                                 \n",
      " dense (Dense)               (None, 256)               2949376   \n",
      "                                                                 \n",
      " dense_1 (Dense)             (None, 128)               32896     \n",
      "                                                                 \n",
      " dropout_3 (Dropout)         (None, 128)               0         \n",
      "                                                                 \n",
      " dense_2 (Dense)             (None, 1)                 129       \n",
      "                                                                 \n",
      "=================================================================\n",
      "Total params: 3066465 (11.70 MB)\n",
      "Trainable params: 3066465 (11.70 MB)\n",
      "Non-trainable params: 0 (0.00 Byte)\n",
      "_________________________________________________________________\n"
     ]
    }
   ],
   "source": [
    "with tf.device ('/gpu:1'):\n",
    "\n",
    "    input_shape = (100, 125, 3)\n",
    "    model = Sequential()\n",
    "    model.add(Conv2D(32, kernel_size=(3, 3),activation='relu',padding = 'Same',input_shape=input_shape))\n",
    "    model.add(Conv2D(32,kernel_size=(3, 3), activation='relu',padding = 'Same',))\n",
    "    model.add(MaxPooling2D(pool_size = (2, 2)))\n",
    "    model.add(Dropout(0.16))\n",
    "\n",
    "    model.add(Conv2D(32, kernel_size=(3, 3),activation='relu',padding = 'Same'))\n",
    "    model.add(Conv2D(32,kernel_size=(3, 3), activation='relu',padding = 'Same',))\n",
    "    model.add(MaxPooling2D(pool_size = (2, 2)))\n",
    "    model.add(Dropout(0.20))\n",
    "\n",
    "    model.add(Conv2D(64, (3, 3), activation='relu',padding = 'same'))\n",
    "    model.add(Conv2D(64, (3, 3), activation='relu',padding = 'Same'))\n",
    "    model.add(MaxPooling2D(pool_size=(2, 2)))\n",
    "    model.add(Dropout(0.25))\n",
    "\n",
    "    model.add(Flatten())\n",
    "    model.add(Dense(256, activation='relu'))\n",
    "    model.add(Dense(128, activation='relu'))\n",
    "    model.add(Dropout(0.4))\n",
    "    model.add(Dense(1, activation='sigmoid'))\n",
    "    model.summary()"
   ]
  },
  {
   "cell_type": "code",
   "execution_count": 15,
   "metadata": {},
   "outputs": [],
   "source": [
    "model.compile(optimizer = \"adam\" , loss = \"binary_crossentropy\", metrics=[\"accuracy\"])"
   ]
  },
  {
   "cell_type": "code",
   "execution_count": 16,
   "metadata": {},
   "outputs": [
    {
     "name": "stdout",
     "output_type": "stream",
     "text": [
      "Epoch 1/60\n",
      "165/165 [==============================] - 48s 280ms/step - loss: 1.0307 - accuracy: 0.5870\n",
      "Epoch 2/60\n",
      "165/165 [==============================] - 46s 278ms/step - loss: 0.5639 - accuracy: 0.6955\n",
      "Epoch 3/60\n",
      "165/165 [==============================] - 46s 278ms/step - loss: 0.4872 - accuracy: 0.7596\n",
      "Epoch 4/60\n",
      "165/165 [==============================] - 46s 279ms/step - loss: 0.4513 - accuracy: 0.7740\n",
      "Epoch 5/60\n",
      "165/165 [==============================] - 46s 277ms/step - loss: 0.4645 - accuracy: 0.7600\n",
      "Epoch 6/60\n",
      "165/165 [==============================] - 47s 282ms/step - loss: 0.4353 - accuracy: 0.7922\n",
      "Epoch 7/60\n",
      "165/165 [==============================] - 45s 271ms/step - loss: 0.3824 - accuracy: 0.8100\n",
      "Epoch 8/60\n",
      "165/165 [==============================] - 43s 261ms/step - loss: 0.3839 - accuracy: 0.8051\n",
      "Epoch 9/60\n",
      "165/165 [==============================] - 43s 260ms/step - loss: 0.3669 - accuracy: 0.8225\n",
      "Epoch 10/60\n",
      "165/165 [==============================] - 42s 257ms/step - loss: 0.3611 - accuracy: 0.8263\n",
      "Epoch 11/60\n",
      "165/165 [==============================] - 43s 258ms/step - loss: 0.3588 - accuracy: 0.8267\n",
      "Epoch 12/60\n",
      "165/165 [==============================] - 43s 259ms/step - loss: 0.3526 - accuracy: 0.8290\n",
      "Epoch 13/60\n",
      "165/165 [==============================] - 43s 258ms/step - loss: 0.3399 - accuracy: 0.8331\n",
      "Epoch 14/60\n",
      "165/165 [==============================] - 44s 267ms/step - loss: 0.3076 - accuracy: 0.8555\n",
      "Epoch 15/60\n",
      "165/165 [==============================] - 47s 285ms/step - loss: 0.2978 - accuracy: 0.8532\n",
      "Epoch 16/60\n",
      "165/165 [==============================] - 45s 275ms/step - loss: 0.3276 - accuracy: 0.8403\n",
      "Epoch 17/60\n",
      "165/165 [==============================] - 45s 270ms/step - loss: 0.2817 - accuracy: 0.8688\n",
      "Epoch 18/60\n",
      "165/165 [==============================] - 45s 273ms/step - loss: 0.2744 - accuracy: 0.8794\n",
      "Epoch 19/60\n",
      "165/165 [==============================] - 44s 266ms/step - loss: 0.2543 - accuracy: 0.8843\n",
      "Epoch 20/60\n",
      "165/165 [==============================] - 42s 257ms/step - loss: 0.2666 - accuracy: 0.8809\n",
      "Epoch 21/60\n",
      "165/165 [==============================] - 43s 263ms/step - loss: 0.2314 - accuracy: 0.8969\n",
      "Epoch 22/60\n",
      "165/165 [==============================] - 42s 257ms/step - loss: 0.2559 - accuracy: 0.8931\n",
      "Epoch 23/60\n",
      "165/165 [==============================] - 39s 235ms/step - loss: 0.2267 - accuracy: 0.8991\n",
      "Epoch 24/60\n",
      "165/165 [==============================] - 38s 231ms/step - loss: 0.2203 - accuracy: 0.9006\n",
      "Epoch 25/60\n",
      "165/165 [==============================] - 40s 241ms/step - loss: 0.2075 - accuracy: 0.9124\n",
      "Epoch 26/60\n",
      "165/165 [==============================] - 38s 231ms/step - loss: 0.2015 - accuracy: 0.9170\n",
      "Epoch 27/60\n",
      "165/165 [==============================] - 38s 232ms/step - loss: 0.2102 - accuracy: 0.9170\n",
      "Epoch 28/60\n",
      "165/165 [==============================] - 38s 231ms/step - loss: 0.2061 - accuracy: 0.9158\n",
      "Epoch 29/60\n",
      "165/165 [==============================] - 39s 237ms/step - loss: 0.1662 - accuracy: 0.9329\n",
      "Epoch 30/60\n",
      "165/165 [==============================] - 38s 233ms/step - loss: 0.1579 - accuracy: 0.9401\n",
      "Epoch 31/60\n",
      "165/165 [==============================] - 38s 229ms/step - loss: 0.1301 - accuracy: 0.9488\n",
      "Epoch 32/60\n",
      "165/165 [==============================] - 38s 233ms/step - loss: 0.1785 - accuracy: 0.9223\n",
      "Epoch 33/60\n",
      "165/165 [==============================] - 39s 234ms/step - loss: 0.1252 - accuracy: 0.9522\n",
      "Epoch 34/60\n",
      "165/165 [==============================] - 38s 228ms/step - loss: 0.1456 - accuracy: 0.9462\n",
      "Epoch 35/60\n",
      "165/165 [==============================] - 38s 232ms/step - loss: 0.1509 - accuracy: 0.9496\n",
      "Epoch 36/60\n",
      "165/165 [==============================] - 38s 232ms/step - loss: 0.1196 - accuracy: 0.9534\n",
      "Epoch 37/60\n",
      "165/165 [==============================] - 39s 234ms/step - loss: 0.1201 - accuracy: 0.9590\n",
      "Epoch 38/60\n",
      "165/165 [==============================] - 38s 231ms/step - loss: 0.0805 - accuracy: 0.9708\n",
      "Epoch 39/60\n",
      "165/165 [==============================] - 37s 222ms/step - loss: 0.1065 - accuracy: 0.9598\n",
      "Epoch 40/60\n",
      "165/165 [==============================] - 40s 240ms/step - loss: 0.0896 - accuracy: 0.9697\n",
      "Epoch 41/60\n",
      "165/165 [==============================] - 42s 251ms/step - loss: 0.1441 - accuracy: 0.9484\n",
      "Epoch 42/60\n",
      "165/165 [==============================] - 41s 248ms/step - loss: 0.0808 - accuracy: 0.9708\n",
      "Epoch 43/60\n",
      "165/165 [==============================] - 38s 231ms/step - loss: 0.0652 - accuracy: 0.9754\n",
      "Epoch 44/60\n",
      "165/165 [==============================] - 38s 229ms/step - loss: 0.0893 - accuracy: 0.9708\n",
      "Epoch 45/60\n",
      "165/165 [==============================] - 38s 230ms/step - loss: 0.0947 - accuracy: 0.9678\n",
      "Epoch 46/60\n",
      "165/165 [==============================] - 38s 227ms/step - loss: 0.0741 - accuracy: 0.9784\n",
      "Epoch 47/60\n",
      "165/165 [==============================] - 37s 226ms/step - loss: 0.0788 - accuracy: 0.9723\n",
      "Epoch 48/60\n",
      "165/165 [==============================] - 36s 220ms/step - loss: 0.0815 - accuracy: 0.9765\n",
      "Epoch 49/60\n",
      "165/165 [==============================] - 37s 221ms/step - loss: 0.0906 - accuracy: 0.9708\n",
      "Epoch 50/60\n",
      "165/165 [==============================] - 36s 220ms/step - loss: 0.1032 - accuracy: 0.9609\n",
      "Epoch 51/60\n",
      "165/165 [==============================] - 36s 220ms/step - loss: 0.0612 - accuracy: 0.9791\n",
      "Epoch 52/60\n",
      "165/165 [==============================] - 37s 224ms/step - loss: 0.0684 - accuracy: 0.9772\n",
      "Epoch 53/60\n",
      "165/165 [==============================] - 38s 230ms/step - loss: 0.0427 - accuracy: 0.9867\n",
      "Epoch 54/60\n",
      "165/165 [==============================] - 38s 230ms/step - loss: 0.0716 - accuracy: 0.9795\n",
      "Epoch 55/60\n",
      "165/165 [==============================] - 37s 224ms/step - loss: 0.0845 - accuracy: 0.9765\n",
      "Epoch 56/60\n",
      "165/165 [==============================] - 37s 223ms/step - loss: 0.0506 - accuracy: 0.9845\n",
      "Epoch 57/60\n",
      "165/165 [==============================] - 37s 223ms/step - loss: 0.0582 - accuracy: 0.9807\n",
      "Epoch 58/60\n",
      "165/165 [==============================] - 37s 224ms/step - loss: 0.0687 - accuracy: 0.9807\n",
      "Epoch 59/60\n",
      "165/165 [==============================] - 488s 3s/step - loss: 0.0397 - accuracy: 0.9890\n",
      "Epoch 60/60\n",
      "165/165 [==============================] - 40s 242ms/step - loss: 0.0963 - accuracy: 0.9700\n"
     ]
    }
   ],
   "source": [
    "with tf.device ('/gpu:0'):\n",
    "    model.fit(x, y, batch_size=16 , epochs=60 )"
   ]
  },
  {
   "cell_type": "code",
   "execution_count": 17,
   "metadata": {},
   "outputs": [
    {
     "name": "stdout",
     "output_type": "stream",
     "text": [
      "21/21 [==============================] - 2s 72ms/step - loss: 1.0556 - accuracy: 0.8409\n",
      "Test Accuracy: 0.8409090638160706\n"
     ]
    }
   ],
   "source": [
    "loss, accuracy = model.evaluate(x_test, y_test)\n",
    "\n",
    "print(\"Test Accuracy:\", accuracy)"
   ]
  },
  {
   "cell_type": "code",
   "execution_count": null,
   "metadata": {},
   "outputs": [],
   "source": []
  }
 ],
 "metadata": {
  "kernelspec": {
   "display_name": "Python 3 (ipykernel)",
   "language": "python",
   "name": "python3"
  },
  "language_info": {
   "codemirror_mode": {
    "name": "ipython",
    "version": 3
   },
   "file_extension": ".py",
   "mimetype": "text/x-python",
   "name": "python",
   "nbconvert_exporter": "python",
   "pygments_lexer": "ipython3",
   "version": "3.10.10"
  }
 },
 "nbformat": 4,
 "nbformat_minor": 2
}
